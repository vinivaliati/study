{
 "cells": [
  {
   "cell_type": "code",
   "execution_count": 13,
   "id": "1d973848-aab7-41f5-b834-2e95e8bcb75a",
   "metadata": {},
   "outputs": [
    {
     "name": "stdout",
     "output_type": "stream",
     "text": [
      "Pontuações de MSE em cada fold: [-0.01110605 -0.00848978 -0.00826153 -0.01234418 -0.00848657]\n",
      "Média do MSE: -0.009737621010911654\n"
     ]
    }
   ],
   "source": [
    "import numpy as np\n",
    "from sklearn.model_selection import cross_val_score\n",
    "from sklearn.linear_model import LinearRegression\n",
    "from sklearn.datasets import make_regression\n",
    "\n",
    "# Criando um conjunto de dados fictício para regressão\n",
    "# X são as variáveis independentes (features) e y é a variável dependente (target)\n",
    "X, y = make_regression(n_samples=1000, n_features=2, noise=0.1, random_state=42)\n",
    "\n",
    "# Definindo o modelo (regressão linear neste caso)\n",
    "model = LinearRegression()\n",
    "\n",
    "# Aplicando validação cruzada (K-Fold)\n",
    "# A validação cruzada é uma técnica onde o conjunto de dados é dividido em 'K' partes (folds). \n",
    "# O modelo é treinado em K-1 folds e testado no fold restante. \n",
    "# Isso é repetido K vezes, com o modelo sendo treinado e testado em diferentes folds a cada vez. \n",
    "# A validação cruzada ajuda a garantir que o modelo seja avaliado de forma robusta e minimize o risco de overfitting.\n",
    "# Aqui, usamos 5 folds (cv=5) e o erro quadrático médio negativo (scoring='neg_mean_squared_error') como métrica.\n",
    "# O valor negativo do MSE é retornado, pois o scikit-learn maximiza a pontuação, então multiplicamos por -1 para obter o valor positivo.\n",
    "cv_scores = cross_val_score(model, X, y, cv=5, scoring='neg_mean_squared_error')\n",
    "\n",
    "\n",
    "# Exibindo os resultados\n",
    "# A variável 'cv_scores' contém o MSE de cada fold. O valor médio de MSE é calculado para avaliar a performance geral do modelo.\n",
    "print(f'Pontuações de MSE em cada fold: {cv_scores}')\n",
    "print(f'Média do MSE: {cv_scores.mean()}')\n"
   ]
  }
 ],
 "metadata": {
  "kernelspec": {
   "display_name": "machine_learning",
   "language": "python",
   "name": "machine_learning"
  },
  "language_info": {
   "codemirror_mode": {
    "name": "ipython",
    "version": 3
   },
   "file_extension": ".py",
   "mimetype": "text/x-python",
   "name": "python",
   "nbconvert_exporter": "python",
   "pygments_lexer": "ipython3",
   "version": "3.12.5"
  }
 },
 "nbformat": 4,
 "nbformat_minor": 5
}
