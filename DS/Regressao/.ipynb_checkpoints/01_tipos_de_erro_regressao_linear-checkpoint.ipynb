{
 "cells": [
  {
   "cell_type": "code",
   "execution_count": 2,
   "id": "b91800cb-a453-40f8-81ad-6f0566192386",
   "metadata": {},
   "outputs": [
    {
     "name": "stdout",
     "output_type": "stream",
     "text": [
      "Valores Reais: [ 3.  -0.5  2.   7. ]\n",
      "Valores Previstos: [2.5 0.  2.  8. ]\n",
      "\n",
      "MAE: 0.50 - Indica o erro médio absoluto entre os valores previstos e reais.\n",
      "MSE: 0.38 - Penaliza mais fortemente os grandes erros ao elevar os erros ao quadrado.\n",
      "RMSE: 0.61 - É a raiz quadrada do MSE, mantendo as unidades no mesmo domínio dos valores originais.\n",
      "\n",
      "Quando usar:\n",
      "- MAE: É mais interpretável e útil se você quer minimizar o erro absoluto, sem considerar grandes outliers.\n",
      "- MSE: Priorize quando você deseja penalizar grandes erros de forma mais significativa.\n",
      "- RMSE: Use quando quer uma métrica fácil de interpretar no mesmo domínio dos valores reais, mas ainda sensível a outliers.\n"
     ]
    }
   ],
   "source": [
    "import numpy as np\n",
    "\n",
    "# Simulação de valores reais e previstos\n",
    "y_true = np.array([3.0, -0.5, 2.0, 7.0])\n",
    "y_pred = np.array([2.5, 0.0, 2.0, 8.0])\n",
    "\n",
    "# Calculando os erros\n",
    "mae = np.mean(np.abs(y_true - y_pred))  # Mean Absolute Error\n",
    "mse = np.mean((y_true - y_pred)**2)     # Mean Squared Error\n",
    "rmse = np.sqrt(mse)                     # Root Mean Squared Error\n",
    "\n",
    "# Mostrando resultados\n",
    "print(f\"Valores Reais: {y_true}\")\n",
    "print(f\"Valores Previstos: {y_pred}\\n\")\n",
    "\n",
    "print(f\"MAE: {mae:.2f} - Indica o erro médio absoluto entre os valores previstos e reais.\")\n",
    "print(f\"MSE: {mse:.2f} - Penaliza mais fortemente os grandes erros ao elevar os erros ao quadrado.\")\n",
    "print(f\"RMSE: {rmse:.2f} - É a raiz quadrada do MSE, mantendo as unidades no mesmo domínio dos valores originais.\\n\")\n",
    "\n",
    "# Quando usar?\n",
    "print(\"Quando usar:\")\n",
    "print(\"- MAE: É mais interpretável e útil se você quer minimizar o erro absoluto, sem considerar grandes outliers.\")\n",
    "print(\"- MSE: Priorize quando você deseja penalizar grandes erros de forma mais significativa.\")\n",
    "print(\"- RMSE: Use quando quer uma métrica fácil de interpretar no mesmo domínio dos valores reais, mas ainda sensível a outliers.\")\n"
   ]
  },
  {
   "cell_type": "markdown",
   "id": "fc5fb6c0-ad61-4551-8261-ba8426552f0b",
   "metadata": {},
   "source": [
    "Explicação das Métricas:\n",
    "\n",
    "    MAE:\n",
    "        Prós: Intuitivo, robusto a outliers pequenos.\n",
    "        Contras: Não penaliza suficientemente grandes desvios.\n",
    "        Quando usar: Dados com outliers controlados ou quando o erro médio é suficiente para interpretação.\n",
    "\n",
    "    MSE:\n",
    "        Prós: Penaliza grandes erros fortemente.\n",
    "        Contras: Difícil de interpretar diretamente por elevar ao quadrado.\n",
    "        Quando usar: Modelos onde grandes erros precisam ser minimizados.\n",
    "\n",
    "    RMSE:\n",
    "        Prós: Mesmas unidades dos dados reais, fácil interpretação.\n",
    "        Contras: Sensível a outliers.\n",
    "        Quando usar: Cenários onde a escala dos erros e sua magnitude relativa são importantes."
   ]
  },
  {
   "cell_type": "code",
   "execution_count": 8,
   "id": "5891adc8-716b-480a-8204-eaaa6efafb57",
   "metadata": {},
   "outputs": [
    {
     "name": "stdout",
     "output_type": "stream",
     "text": [
      "O que é R²?\n",
      "- É uma métrica que mede o quanto da variância dos dados reais é explicada pelo modelo.\n",
      "- Ele varia entre:\n",
      "  * 1.0: O modelo explica 100% da variância.\n",
      "  * 0.0: O modelo não explica nada, equivalente a prever a média.\n",
      "  * Valores negativos: O modelo é pior do que prever sempre a média.\n",
      "\n",
      "Cálculos:\n",
      "- Valores reais: [ 3.  -0.5  2.   7. ]\n",
      "- Valores previstos: [2.5 0.  2.  8. ]\n",
      "- Média dos valores reais: 2.88\n",
      "- SST (Soma total dos quadrados): 29.19\n",
      "- SSE (Soma dos erros ao quadrado): 1.50\n",
      "- R² calculado manualmente: 0.95\n",
      "- R² calculado com sklearn: 0.95\n",
      "\n",
      "Interpretação do R²:\n",
      "- R² = 0.95: O modelo explica muito bem a variância dos dados.\n"
     ]
    }
   ],
   "source": [
    "import numpy as np\n",
    "from sklearn.metrics import r2_score\n",
    "\n",
    "# Simulando valores reais e previstos\n",
    "y_true = np.array([3.0, -0.5, 2.0, 7.0])  # Valores reais\n",
    "y_pred = np.array([2.5, 0.0, 2.0, 8.0])   # Valores previstos\n",
    "\n",
    "# Calculando R² com sklearn\n",
    "r2 = r2_score(y_true, y_pred)\n",
    "\n",
    "# Cálculo manual do R² para fins de explicação\n",
    "mean_y = np.mean(y_true)  # Média dos valores reais\n",
    "sst = np.sum((y_true - mean_y)**2)  # Soma total dos quadrados (variância total)\n",
    "sse = np.sum((y_true - y_pred)**2)  # Soma dos erros ao quadrado (variância explicada pelos erros)\n",
    "r2_manual = 1 - (sse / sst)  # Fórmula do R²\n",
    "\n",
    "# Explicação do R²\n",
    "print(\"O que é R²?\")\n",
    "print(\"- É uma métrica que mede o quanto da variância dos dados reais é explicada pelo modelo.\")\n",
    "print(\"- Ele varia entre:\")\n",
    "print(\"  * 1.0: O modelo explica 100% da variância.\")\n",
    "print(\"  * 0.0: O modelo não explica nada, equivalente a prever a média.\")\n",
    "print(\"  * Valores negativos: O modelo é pior do que prever sempre a média.\\n\")\n",
    "\n",
    "# Mostrando os cálculos e interpretação\n",
    "print(\"Cálculos:\")\n",
    "print(f\"- Valores reais: {y_true}\")\n",
    "print(f\"- Valores previstos: {y_pred}\")\n",
    "print(f\"- Média dos valores reais: {mean_y:.2f}\")\n",
    "print(f\"- SST (Soma total dos quadrados): {sst:.2f}\")\n",
    "print(f\"- SSE (Soma dos erros ao quadrado): {sse:.2f}\")\n",
    "print(f\"- R² calculado manualmente: {r2_manual:.2f}\")\n",
    "print(f\"- R² calculado com sklearn: {r2:.2f}\\n\")\n",
    "\n",
    "# Interpretando o valor do R²\n",
    "print(\"Interpretação do R²:\")\n",
    "if r2 > 0.8:\n",
    "    print(f\"- R² = {r2:.2f}: O modelo explica muito bem a variância dos dados.\")\n",
    "elif 0.5 <= r2 <= 0.8:\n",
    "    print(f\"- R² = {r2:.2f}: O modelo explica razoavelmente a variância dos dados.\")\n",
    "else:\n",
    "    print(f\"- R² = {r2:.2f}: O modelo não explica bem a variância. Pode precisar de melhorias.\")\n"
   ]
  }
 ],
 "metadata": {
  "kernelspec": {
   "display_name": "machine_learning",
   "language": "python",
   "name": "machine_learning"
  },
  "language_info": {
   "codemirror_mode": {
    "name": "ipython",
    "version": 3
   },
   "file_extension": ".py",
   "mimetype": "text/x-python",
   "name": "python",
   "nbconvert_exporter": "python",
   "pygments_lexer": "ipython3",
   "version": "3.12.5"
  }
 },
 "nbformat": 4,
 "nbformat_minor": 5
}
